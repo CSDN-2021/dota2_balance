{
 "cells": [
  {
   "cell_type": "code",
   "execution_count": 2,
   "metadata": {},
   "outputs": [],
   "source": [
    "# import relevant libraries\n",
    "import pandas as pd\n",
    "import json\n",
    "import requests\n",
    "import math\n",
    "import time\n",
    "\n",
    "url_sql = \"https://api.opendota.com/api/explorer\""
   ]
  },
  {
   "cell_type": "code",
   "execution_count": 35,
   "metadata": {},
   "outputs": [
    {
     "name": "stdout",
     "output_type": "stream",
     "text": [
      "<Response [400]>\n"
     ]
    },
    {
     "ename": "KeyError",
     "evalue": "'rows'",
     "output_type": "error",
     "traceback": [
      "\u001b[0;31m---------------------------------------------------------------------------\u001b[0m",
      "\u001b[0;31mKeyError\u001b[0m                                  Traceback (most recent call last)",
      "Cell \u001b[0;32mIn[35], line 13\u001b[0m\n\u001b[1;32m      9\u001b[0m data \u001b[38;5;241m=\u001b[39m response\u001b[38;5;241m.\u001b[39mjson()\n\u001b[1;32m     11\u001b[0m data\n\u001b[0;32m---> 13\u001b[0m df_first \u001b[38;5;241m=\u001b[39m pd\u001b[38;5;241m.\u001b[39mDataFrame(\u001b[43mdata\u001b[49m\u001b[43m[\u001b[49m\u001b[38;5;124;43m\"\u001b[39;49m\u001b[38;5;124;43mrows\u001b[39;49m\u001b[38;5;124;43m\"\u001b[39;49m\u001b[43m]\u001b[49m)\n\u001b[1;32m     15\u001b[0m df_first\u001b[38;5;241m.\u001b[39mcolumns\n",
      "\u001b[0;31mKeyError\u001b[0m: 'rows'"
     ]
    }
   ],
   "source": [
    "test = \"SELECT match_id, hero_id FROM player_matches WHERE match_id BETWEEN 3710610589 AND 5000000000\"\n",
    "\n",
    "params = {\"sql\": test}\n",
    "\n",
    "response = requests.get(url=url_sql, params=params)\n",
    "\n",
    "print(response)\n",
    "\n",
    "data = response.json()\n",
    "\n",
    "data\n",
    "\n",
    "df_first = pd.DataFrame(data[\"rows\"])\n",
    "\n",
    "n = \n",
    "df_first.columns"
   ]
  },
  {
   "cell_type": "code",
   "execution_count": 48,
   "metadata": {},
   "outputs": [
    {
     "name": "stdout",
     "output_type": "stream",
     "text": [
      "(18060, 4)\n",
      "(31240, 4)\n",
      "(40870, 4)\n",
      "(65220, 4)\n",
      "(86310, 4)\n",
      "(103610, 4)\n",
      "(120160, 4)\n",
      "(137130, 4)\n",
      "(156150, 4)\n",
      "(180820, 4)\n",
      "(216440, 4)\n",
      "(266480, 4)\n",
      "(309620, 4)\n",
      "(365670, 4)\n",
      "(416610, 4)\n",
      "(463260, 4)\n",
      "(504150, 4)\n",
      "(532340, 4)\n",
      "(563350, 4)\n",
      "(601360, 4)\n",
      "(646760, 4)\n",
      "(685250, 4)\n",
      "(737060, 4)\n"
     ]
    },
    {
     "ename": "KeyError",
     "evalue": "'rows'",
     "output_type": "error",
     "traceback": [
      "\u001b[0;31m---------------------------------------------------------------------------\u001b[0m",
      "\u001b[0;31mKeyError\u001b[0m                                  Traceback (most recent call last)",
      "Cell \u001b[0;32mIn[48], line 12\u001b[0m\n\u001b[1;32m      9\u001b[0m response \u001b[38;5;241m=\u001b[39m requests\u001b[38;5;241m.\u001b[39mget(url\u001b[38;5;241m=\u001b[39murl_sql, params\u001b[38;5;241m=\u001b[39mparams)\n\u001b[1;32m     11\u001b[0m data \u001b[38;5;241m=\u001b[39m response\u001b[38;5;241m.\u001b[39mjson()\n\u001b[0;32m---> 12\u001b[0m df_temp \u001b[38;5;241m=\u001b[39m pd\u001b[38;5;241m.\u001b[39mDataFrame(\u001b[43mdata\u001b[49m\u001b[43m[\u001b[49m\u001b[38;5;124;43m\"\u001b[39;49m\u001b[38;5;124;43mrows\u001b[39;49m\u001b[38;5;124;43m\"\u001b[39;49m\u001b[43m]\u001b[49m)\n\u001b[1;32m     14\u001b[0m df_players_matches \u001b[38;5;241m=\u001b[39m pd\u001b[38;5;241m.\u001b[39mconcat([df_players_matches, df_temp], axis\u001b[38;5;241m=\u001b[39m\u001b[38;5;241m0\u001b[39m)\n\u001b[1;32m     15\u001b[0m time\u001b[38;5;241m.\u001b[39msleep(\u001b[38;5;241m2\u001b[39m)\n",
      "\u001b[0;31mKeyError\u001b[0m: 'rows'"
     ]
    }
   ],
   "source": [
    "n = 3710610588\n",
    "\n",
    "df_players_matches = pd.DataFrame()\n",
    "\n",
    "while n < 8721721938:\n",
    "  test = f\"SELECT match_id, account_id, player_slot, hero_id FROM player_matches WHERE match_id BETWEEN {n} AND {n + 125000000}\"\n",
    "  params = {\"sql\": test}\n",
    "  n += 125000000\n",
    "  response = requests.get(url=url_sql, params=params)\n",
    "\n",
    "  data = response.json()\n",
    "  df_temp = pd.DataFrame(data[\"rows\"])\n",
    "\n",
    "  df_players_matches = pd.concat([df_players_matches, df_temp], axis=0)\n",
    "  time.sleep(2)\n",
    "  print(df_players_matches.shape)\n",
    "\n",
    "df_players_matches.shape\n"
   ]
  },
  {
   "cell_type": "code",
   "execution_count": 49,
   "metadata": {},
   "outputs": [
    {
     "data": {
      "text/html": [
       "<div>\n",
       "<style scoped>\n",
       "    .dataframe tbody tr th:only-of-type {\n",
       "        vertical-align: middle;\n",
       "    }\n",
       "\n",
       "    .dataframe tbody tr th {\n",
       "        vertical-align: top;\n",
       "    }\n",
       "\n",
       "    .dataframe thead th {\n",
       "        text-align: right;\n",
       "    }\n",
       "</style>\n",
       "<table border=\"1\" class=\"dataframe\">\n",
       "  <thead>\n",
       "    <tr style=\"text-align: right;\">\n",
       "      <th></th>\n",
       "      <th>match_id</th>\n",
       "      <th>account_id</th>\n",
       "      <th>player_slot</th>\n",
       "      <th>hero_id</th>\n",
       "    </tr>\n",
       "  </thead>\n",
       "  <tbody>\n",
       "    <tr>\n",
       "      <th>0</th>\n",
       "      <td>3710610589</td>\n",
       "      <td>125581247.0</td>\n",
       "      <td>0</td>\n",
       "      <td>72</td>\n",
       "    </tr>\n",
       "    <tr>\n",
       "      <th>1</th>\n",
       "      <td>3710610589</td>\n",
       "      <td>106863163.0</td>\n",
       "      <td>1</td>\n",
       "      <td>11</td>\n",
       "    </tr>\n",
       "    <tr>\n",
       "      <th>2</th>\n",
       "      <td>3710610589</td>\n",
       "      <td>94296097.0</td>\n",
       "      <td>2</td>\n",
       "      <td>3</td>\n",
       "    </tr>\n",
       "    <tr>\n",
       "      <th>3</th>\n",
       "      <td>3710610589</td>\n",
       "      <td>101695162.0</td>\n",
       "      <td>3</td>\n",
       "      <td>62</td>\n",
       "    </tr>\n",
       "    <tr>\n",
       "      <th>4</th>\n",
       "      <td>3710610589</td>\n",
       "      <td>94738847.0</td>\n",
       "      <td>4</td>\n",
       "      <td>108</td>\n",
       "    </tr>\n",
       "    <tr>\n",
       "      <th>...</th>\n",
       "      <td>...</td>\n",
       "      <td>...</td>\n",
       "      <td>...</td>\n",
       "      <td>...</td>\n",
       "    </tr>\n",
       "    <tr>\n",
       "      <th>51805</th>\n",
       "      <td>6585511567</td>\n",
       "      <td>92028391.0</td>\n",
       "      <td>128</td>\n",
       "      <td>121</td>\n",
       "    </tr>\n",
       "    <tr>\n",
       "      <th>51806</th>\n",
       "      <td>6585511567</td>\n",
       "      <td>366294622.0</td>\n",
       "      <td>129</td>\n",
       "      <td>4</td>\n",
       "    </tr>\n",
       "    <tr>\n",
       "      <th>51807</th>\n",
       "      <td>6585511567</td>\n",
       "      <td>141690233.0</td>\n",
       "      <td>130</td>\n",
       "      <td>90</td>\n",
       "    </tr>\n",
       "    <tr>\n",
       "      <th>51808</th>\n",
       "      <td>6585511567</td>\n",
       "      <td>93526520.0</td>\n",
       "      <td>131</td>\n",
       "      <td>129</td>\n",
       "    </tr>\n",
       "    <tr>\n",
       "      <th>51809</th>\n",
       "      <td>6585511567</td>\n",
       "      <td>96169991.0</td>\n",
       "      <td>132</td>\n",
       "      <td>9</td>\n",
       "    </tr>\n",
       "  </tbody>\n",
       "</table>\n",
       "<p>737060 rows × 4 columns</p>\n",
       "</div>"
      ],
      "text/plain": [
       "         match_id   account_id  player_slot  hero_id\n",
       "0      3710610589  125581247.0            0       72\n",
       "1      3710610589  106863163.0            1       11\n",
       "2      3710610589   94296097.0            2        3\n",
       "3      3710610589  101695162.0            3       62\n",
       "4      3710610589   94738847.0            4      108\n",
       "...           ...          ...          ...      ...\n",
       "51805  6585511567   92028391.0          128      121\n",
       "51806  6585511567  366294622.0          129        4\n",
       "51807  6585511567  141690233.0          130       90\n",
       "51808  6585511567   93526520.0          131      129\n",
       "51809  6585511567   96169991.0          132        9\n",
       "\n",
       "[737060 rows x 4 columns]"
      ]
     },
     "execution_count": 49,
     "metadata": {},
     "output_type": "execute_result"
    }
   ],
   "source": [
    "df_players_matches"
   ]
  },
  {
   "cell_type": "code",
   "execution_count": 50,
   "metadata": {},
   "outputs": [
    {
     "name": "stdout",
     "output_type": "stream",
     "text": [
      "(785460, 4)\n",
      "(850150, 4)\n",
      "(908160, 4)\n",
      "(951590, 4)\n",
      "(1021740, 4)\n",
      "(1089070, 4)\n",
      "(1165480, 4)\n",
      "(1224550, 4)\n",
      "(1285902, 4)\n",
      "(1358102, 4)\n",
      "(1390502, 4)\n",
      "(1390502, 4)\n",
      "(1390502, 4)\n",
      "(1390502, 4)\n",
      "(1390502, 4)\n",
      "(1390502, 4)\n",
      "(1390502, 4)\n",
      "(1390502, 4)\n",
      "(1390502, 4)\n"
     ]
    },
    {
     "data": {
      "text/plain": [
       "(1390502, 4)"
      ]
     },
     "execution_count": 50,
     "metadata": {},
     "output_type": "execute_result"
    }
   ],
   "source": [
    "# df_players_matches.drop_duplicates()\n",
    "n = 6410610588\n",
    "\n",
    "while n < 8721721938:\n",
    "  test = f\"SELECT match_id, account_id, player_slot, hero_id FROM player_matches WHERE match_id BETWEEN {n} AND {n + 125000000}\"\n",
    "  params = {\"sql\": test}\n",
    "  n += 125000000\n",
    "  response = requests.get(url=url_sql, params=params)\n",
    "\n",
    "  data = response.json()\n",
    "  df_temp = pd.DataFrame(data[\"rows\"])\n",
    "\n",
    "  df_players_matches = pd.concat([df_players_matches, df_temp], axis=0)\n",
    "  time.sleep(2)\n",
    "  print(df_players_matches.shape)\n",
    "\n",
    "df_players_matches.shape"
   ]
  },
  {
   "cell_type": "code",
   "execution_count": 51,
   "metadata": {},
   "outputs": [
    {
     "data": {
      "text/plain": [
       "((1390502, 4), (1319872, 4))"
      ]
     },
     "execution_count": 51,
     "metadata": {},
     "output_type": "execute_result"
    }
   ],
   "source": [
    "df_players_matches.shape, df_players_matches.drop_duplicates().shape"
   ]
  },
  {
   "cell_type": "code",
   "execution_count": 52,
   "metadata": {},
   "outputs": [],
   "source": [
    "df_players_matches.drop_duplicates(inplace=True)"
   ]
  },
  {
   "cell_type": "code",
   "execution_count": 21,
   "metadata": {},
   "outputs": [],
   "source": [
    "# df_players_matches.to_csv(\"data/raw/players_matches.csv\", index=False)"
   ]
  },
  {
   "cell_type": "code",
   "execution_count": 53,
   "metadata": {},
   "outputs": [
    {
     "name": "stderr",
     "output_type": "stream",
     "text": [
      "/tmp/ipykernel_2643722/1094301747.py:3: FutureWarning: to_gbq is deprecated and will be removed in a future version. Please use pandas_gbq.to_gbq instead: https://pandas-gbq.readthedocs.io/en/latest/api.html#pandas_gbq.to_gbq\n",
      "  df_players_matches.to_gbq(\"dota2.players_matches\", project_id=project_id)\n",
      "100%|██████████| 1/1 [00:00<00:00, 13443.28it/s]\n"
     ]
    }
   ],
   "source": [
    "project_id = \"integral-cell-418310\"\n",
    "\n",
    "df_players_matches.to_gbq(\"dota2.players_matches\", project_id=project_id)"
   ]
  }
 ],
 "metadata": {
  "kernelspec": {
   "display_name": "Python 3",
   "language": "python",
   "name": "python3"
  },
  "language_info": {
   "codemirror_mode": {
    "name": "ipython",
    "version": 3
   },
   "file_extension": ".py",
   "mimetype": "text/x-python",
   "name": "python",
   "nbconvert_exporter": "python",
   "pygments_lexer": "ipython3",
   "version": "3.10.12"
  }
 },
 "nbformat": 4,
 "nbformat_minor": 2
}
